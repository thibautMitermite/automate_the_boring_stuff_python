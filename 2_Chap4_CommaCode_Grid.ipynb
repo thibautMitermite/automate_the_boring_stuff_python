{
 "cells": [
  {
   "cell_type": "markdown",
   "metadata": {},
   "source": [
    "## Comma Code"
   ]
  },
  {
   "cell_type": "markdown",
   "metadata": {},
   "source": [
    "Project: Writting a function that takes a list value as an argument and returns a string with all items seperated by a comma and a space with \"and\" inserted before the last item. The function should work with any list."
   ]
  },
  {
   "cell_type": "code",
   "execution_count": 7,
   "metadata": {},
   "outputs": [],
   "source": [
    "# Different lists that will be used to test the function\n",
    "spam = [\"apples\", \"bananas\", \"tofu\", \"cats\"]\n",
    "spam2 = [\"apples\", \"bananas\", \"tofu\", \"cats\", \"apples\", \"bananas\", \"tofu\", \"cats\"]\n",
    "spam3 = [\"apples\"]"
   ]
  },
  {
   "cell_type": "code",
   "execution_count": 8,
   "metadata": {},
   "outputs": [],
   "source": [
    "def listToString(listOfWords):\n",
    "    \n",
    "    # Check if the list has only one value and if it is the case returning the value\n",
    "    if len(listOfWords) == 1:\n",
    "        return listOfWords[0]\n",
    "    \n",
    "    # if the list has multiple value:\n",
    "    else:\n",
    "        # join all the value except the last one using a comma+space to seperate items and saving the result to a variable\n",
    "        spamFirstGroup = ', '.join(listOfWords[:-1]) \n",
    "        # joining the last word and saving it to new variable\n",
    "        spamLastWord = ''.join(listOfWords[-1:]) \n",
    "    \n",
    "        return f'{spamFirstGroup}, and {spamLastWord}' #return a string with each items + the and before the last item"
   ]
  },
  {
   "cell_type": "code",
   "execution_count": 9,
   "metadata": {},
   "outputs": [
    {
     "name": "stdout",
     "output_type": "stream",
     "text": [
      "apples, bananas, tofu, and cats\n"
     ]
    }
   ],
   "source": [
    "# Testing with the provided list\n",
    "print(listToString(spam))"
   ]
  },
  {
   "cell_type": "code",
   "execution_count": 10,
   "metadata": {},
   "outputs": [
    {
     "name": "stdout",
     "output_type": "stream",
     "text": [
      "apples, bananas, tofu, cats, apples, bananas, tofu, and cats\n"
     ]
    }
   ],
   "source": [
    "# Testing with a longer list\n",
    "print(listToString(spam2))"
   ]
  },
  {
   "cell_type": "code",
   "execution_count": 11,
   "metadata": {},
   "outputs": [
    {
     "name": "stdout",
     "output_type": "stream",
     "text": [
      "apples\n"
     ]
    }
   ],
   "source": [
    "# Testing with a list of one item\n",
    "print(listToString(spam3))"
   ]
  },
  {
   "cell_type": "markdown",
   "metadata": {},
   "source": [
    "## Character Picture Grid"
   ]
  },
  {
   "cell_type": "markdown",
   "metadata": {},
   "source": [
    "Project: Print the image from the grid"
   ]
  },
  {
   "cell_type": "code",
   "execution_count": 12,
   "metadata": {},
   "outputs": [],
   "source": [
    "grid = [['.', '.', '.', '.', '.', '.'],\n",
    "        ['.', '0', '0', '.', '.', '.'],\n",
    "        ['0', '0', '0', '0', '.', '.'],\n",
    "        ['0', '0', '0', '0', '0', '.'],\n",
    "        ['.', '0', '0', '0', '0', '0'],\n",
    "        ['0', '0', '0', '0', '0', '.'],\n",
    "        ['0', '0', '0', '0', '.', '.'],\n",
    "        ['.', '0', '0', '.', '.', '.'],\n",
    "        ['.', '.', '.', '.', '.', '.']]"
   ]
  },
  {
   "cell_type": "markdown",
   "metadata": {},
   "source": [
    "### Solution 1"
   ]
  },
  {
   "cell_type": "code",
   "execution_count": 17,
   "metadata": {
    "scrolled": true
   },
   "outputs": [
    {
     "name": "stdout",
     "output_type": "stream",
     "text": [
      "..00.00..\n",
      ".0000000.\n",
      ".0000000.\n",
      "..00000..\n",
      "...000...\n",
      "....0....\n"
     ]
    }
   ],
   "source": [
    "#creating a new variable \n",
    "\n",
    "for i in range(len(grid[0])):\n",
    "    #Creating new empty variable where items will be stored. After each iteration the variable will be reset.\n",
    "    new_grid = ''\n",
    "    \n",
    "    for j in range(len(grid)):\n",
    "        #Adding the item in var new_grid\n",
    "        new_grid += grid[j][i]  \n",
    "    \n",
    "    #print the result and add new line if not reach the end of the loop.\n",
    "    print(new_grid)"
   ]
  },
  {
   "cell_type": "code",
   "execution_count": 16,
   "metadata": {},
   "outputs": [
    {
     "name": "stdout",
     "output_type": "stream",
     "text": [
      "..00.00..\n",
      ".0000000.\n",
      ".0000000.\n",
      "..00000..\n",
      "...000...\n",
      "....0....\n"
     ]
    }
   ],
   "source": [
    "#Using end keyword - instead of starting a new line it will add items next to each other\n",
    "\n",
    "for i in range(len(grid[0])):\n",
    "    \n",
    "    for j in range(len(grid)):\n",
    "        print(grid[j][i], end= '')\n",
    "    \n",
    "    #Add new line\n",
    "    print('')"
   ]
  }
 ],
 "metadata": {
  "kernelspec": {
   "display_name": "Python 3",
   "language": "python",
   "name": "python3"
  },
  "language_info": {
   "codemirror_mode": {
    "name": "ipython",
    "version": 3
   },
   "file_extension": ".py",
   "mimetype": "text/x-python",
   "name": "python",
   "nbconvert_exporter": "python",
   "pygments_lexer": "ipython3",
   "version": "3.7.1"
  }
 },
 "nbformat": 4,
 "nbformat_minor": 2
}
