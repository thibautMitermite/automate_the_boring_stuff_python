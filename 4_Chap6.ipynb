{
 "cells": [
  {
   "cell_type": "markdown",
   "metadata": {},
   "source": [
    "# Table Printer"
   ]
  },
  {
   "cell_type": "markdown",
   "metadata": {},
   "source": [
    "Project: Function that take a list of lists of strings and displays it in a well-orgnaized table with each coulmn right-justified. (All inner lists will contain the same number of strings)"
   ]
  },
  {
   "cell_type": "code",
   "execution_count": 12,
   "metadata": {},
   "outputs": [],
   "source": [
    "tableData = [['apples', 'oranges', 'cherries', 'banana', 'test'],\n",
    "             ['Alice', 'Bob', 'Carol', 'David', 'longestString'],\n",
    "             ['dogs', 'cats', 'moose', 'goose', 'longer']]"
   ]
  },
  {
   "cell_type": "markdown",
   "metadata": {},
   "source": [
    "### First Method"
   ]
  },
  {
   "cell_type": "code",
   "execution_count": 13,
   "metadata": {},
   "outputs": [],
   "source": [
    "def printTable(table):\n",
    "    for j in range(len(table[0])):\n",
    "        for i in range(len(table)):\n",
    "            \n",
    "            # Find the longest string for each list and store it to colWidths\n",
    "            colWidths = len(max(table[i], key= len))\n",
    "            \n",
    "            # Print the first value for each list on the same line\n",
    "            print(table[i][j].rjust(colWidths), end= '  ')\n",
    "            \n",
    "        # Start a new line\n",
    "        print('')"
   ]
  },
  {
   "cell_type": "code",
   "execution_count": 14,
   "metadata": {
    "scrolled": true
   },
   "outputs": [
    {
     "name": "stdout",
     "output_type": "stream",
     "text": [
      "  apples          Alice    dogs  \n",
      " oranges            Bob    cats  \n",
      "cherries          Carol   moose  \n",
      "  banana          David   goose  \n",
      "    test  longestString  longer  \n"
     ]
    }
   ],
   "source": [
    "printTable(tableData)"
   ]
  },
  {
   "cell_type": "markdown",
   "metadata": {},
   "source": [
    "This method works. The issue is that the program will go over each value to find the longest string for every print. For a small table like this one it's not an issue but it can be if the table is bigger."
   ]
  },
  {
   "cell_type": "markdown",
   "metadata": {},
   "source": [
    "### Method 2"
   ]
  },
  {
   "cell_type": "code",
   "execution_count": 47,
   "metadata": {},
   "outputs": [],
   "source": [
    "def printTable2(table):\n",
    "    # create a list that has the length of the number of list in the parameter and set each values to 0.\n",
    "    colWidths = [0] * len(table)\n",
    "    \n",
    "    # Find the longest for each list in the parameter and store the length of the longest string in colWidths.\n",
    "    # The first value will be equal to the length of the longest string in the first list, etc...\n",
    "    for a in range(len(table)):\n",
    "        for b in range(len(table[0])):\n",
    "            colWidths[a] = len(max(table[a], key= len))\n",
    "    \n",
    "    for j in range(len(table[0])):\n",
    "        for i in range(len(table)):\n",
    "            \n",
    "            # Setting the widths of each column to the number of the longest string using the value stored in colWidths.\n",
    "            print(table[i][j].rjust(colWidths[i]), end= ' ')\n",
    "        \n",
    "        # Start a new line\n",
    "        print('')"
   ]
  },
  {
   "cell_type": "code",
   "execution_count": 48,
   "metadata": {},
   "outputs": [
    {
     "name": "stdout",
     "output_type": "stream",
     "text": [
      "  apples         Alice   dogs \n",
      " oranges           Bob   cats \n",
      "cherries         Carol  moose \n",
      "  banana         David  goose \n",
      "    test longestString longer \n"
     ]
    }
   ],
   "source": [
    "printTable2(tableData)"
   ]
  }
 ],
 "metadata": {
  "kernelspec": {
   "display_name": "Python 3",
   "language": "python",
   "name": "python3"
  },
  "language_info": {
   "codemirror_mode": {
    "name": "ipython",
    "version": 3
   },
   "file_extension": ".py",
   "mimetype": "text/x-python",
   "name": "python",
   "nbconvert_exporter": "python",
   "pygments_lexer": "ipython3",
   "version": "3.7.1"
  }
 },
 "nbformat": 4,
 "nbformat_minor": 2
}
