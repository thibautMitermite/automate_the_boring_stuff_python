{
 "cells": [
  {
   "cell_type": "markdown",
   "metadata": {},
   "source": [
    "# Fantasy Game Inventory"
   ]
  },
  {
   "cell_type": "markdown",
   "metadata": {},
   "source": [
    "Project: Writting a function named displeyInventory() that would take any possible \"inventory\" and display it like the following:<br>\n",
    "Inventory: <br>\n",
    "12 arrow <br>\n",
    "42 gold coin <br>\n",
    "1 rope <br>\n",
    "6 torch <br>\n",
    "1 dagger <br>\n",
    "Total number of items: 62"
   ]
  },
  {
   "cell_type": "code",
   "execution_count": 4,
   "metadata": {},
   "outputs": [],
   "source": [
    "stuff = {'rope': 1, 'torch': 6, 'gold coin': 42, 'dagger': 1, 'arrow': 12}"
   ]
  },
  {
   "cell_type": "code",
   "execution_count": 15,
   "metadata": {},
   "outputs": [],
   "source": [
    "def displayInventory(inventory):\n",
    "    \n",
    "    print(\"Inventory:\")\n",
    "    item_total = 0\n",
    "    \n",
    "    for k, v in inventory.items():\n",
    "        item_total += v\n",
    "        print(f'{v} {k}')\n",
    "    print(f'Total number of items: {item_total}')"
   ]
  },
  {
   "cell_type": "code",
   "execution_count": 16,
   "metadata": {},
   "outputs": [
    {
     "name": "stdout",
     "output_type": "stream",
     "text": [
      "Inventory:\n",
      "1 rope\n",
      "6 torch\n",
      "42 gold coin\n",
      "1 dagger\n",
      "12 arrow\n",
      "Total number of items: 62\n"
     ]
    }
   ],
   "source": [
    "displayInventory(stuff)"
   ]
  },
  {
   "cell_type": "markdown",
   "metadata": {},
   "source": [
    "# List of Dictionary Function for Fantasy Game Inventory"
   ]
  },
  {
   "cell_type": "markdown",
   "metadata": {},
   "source": [
    "Project: Create a new function with the inventory parameter is a dictionary representing the player's inventory and the other parameter is a list of items."
   ]
  },
  {
   "cell_type": "code",
   "execution_count": 45,
   "metadata": {},
   "outputs": [],
   "source": [
    "def addToInventory(inventory, addedItems):\n",
    "    # Iterate through the list\n",
    "    for item in addedItems:\n",
    "        # Check if the item in the list is in the inventory and if yes add one item to the value\n",
    "        if item in inventory.keys():\n",
    "            inventory[item] += 1\n",
    "        # If item not in the inventory then create a new item and assign 1 as value to the inventory\n",
    "        else:\n",
    "            inventory[item] = 1\n",
    "    return inventory"
   ]
  },
  {
   "cell_type": "code",
   "execution_count": 44,
   "metadata": {},
   "outputs": [
    {
     "name": "stdout",
     "output_type": "stream",
     "text": [
      "Inventory:\n",
      "48 gold coin\n",
      "1 rope\n",
      "1 dagger\n",
      "1 ruby\n",
      "Total number of items: 51\n"
     ]
    }
   ],
   "source": [
    "# Test with the provided information\n",
    "inv = {'gold coin': 45, 'rope': 1}\n",
    "dragonLoot = ['gold coin', 'dagger', 'gold coin', 'gold coin', 'ruby']\n",
    "\n",
    "inv = addToInventory(inv, dragonLoot)\n",
    "displayInventory(inv)"
   ]
  },
  {
   "cell_type": "code",
   "execution_count": 38,
   "metadata": {},
   "outputs": [
    {
     "name": "stdout",
     "output_type": "stream",
     "text": [
      "Inventory:\n",
      "1 rope\n",
      "6 torch\n",
      "45 gold coin\n",
      "2 dagger\n",
      "12 arrow\n",
      "2 ruby\n",
      "Total number of items: 68\n"
     ]
    }
   ],
   "source": [
    "# Test using the previous inventory and adding new identical item in dragonLoot2\n",
    "inv2 = {'rope': 1, 'torch': 6, 'gold coin': 42, 'dagger': 1, 'arrow': 12}\n",
    "dragonLoot2 = ['gold coin', 'dagger', 'gold coin', 'gold coin', 'ruby', 'ruby']\n",
    "\n",
    "inv2 = addToInventory(inv2, dragonLoot2)\n",
    "displayInventory(inv2)"
   ]
  },
  {
   "cell_type": "code",
   "execution_count": 39,
   "metadata": {},
   "outputs": [
    {
     "name": "stdout",
     "output_type": "stream",
     "text": [
      "Inventory:\n",
      "1 rope\n",
      "6 torch\n",
      "42 gold coin\n",
      "1 dagger\n",
      "12 arrow\n",
      "Total number of items: 62\n"
     ]
    }
   ],
   "source": [
    "# Test with an empty list\n",
    "inv3 = {'rope': 1, 'torch': 6, 'gold coin': 42, 'dagger': 1, 'arrow': 12}\n",
    "dragonLoot3 = []\n",
    "\n",
    "inv3 = addToInventory(inv3, dragonLoot3)\n",
    "displayInventory(inv3)"
   ]
  },
  {
   "cell_type": "code",
   "execution_count": 40,
   "metadata": {},
   "outputs": [
    {
     "name": "stdout",
     "output_type": "stream",
     "text": [
      "Inventory:\n",
      "3 gold coin\n",
      "1 dagger\n",
      "2 ruby\n",
      "Total number of items: 6\n"
     ]
    }
   ],
   "source": [
    "# Test with an empty inventory\n",
    "inv4 = {}\n",
    "dragonLoot4 = ['gold coin', 'dagger', 'gold coin', 'gold coin', 'ruby', 'ruby']\n",
    "\n",
    "inv2 = addToInventory(inv4, dragonLoot4)\n",
    "displayInventory(inv4)"
   ]
  }
 ],
 "metadata": {
  "kernelspec": {
   "display_name": "Python 3",
   "language": "python",
   "name": "python3"
  },
  "language_info": {
   "codemirror_mode": {
    "name": "ipython",
    "version": 3
   },
   "file_extension": ".py",
   "mimetype": "text/x-python",
   "name": "python",
   "nbconvert_exporter": "python",
   "pygments_lexer": "ipython3",
   "version": "3.7.1"
  }
 },
 "nbformat": 4,
 "nbformat_minor": 2
}
